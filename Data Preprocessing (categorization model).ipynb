{
 "cells": [
  {
   "cell_type": "code",
   "execution_count": 1,
   "id": "bb721194",
   "metadata": {},
   "outputs": [],
   "source": [
    "import numpy as np\n",
    "import pandas as pd"
   ]
  },
  {
   "cell_type": "code",
   "execution_count": 2,
   "id": "e5c73068",
   "metadata": {},
   "outputs": [],
   "source": [
    "df= pd.read_csv('clean_resume_data.csv')"
   ]
  },
  {
   "cell_type": "code",
   "execution_count": 3,
   "id": "de471da9",
   "metadata": {},
   "outputs": [
    {
     "data": {
      "text/html": [
       "<div>\n",
       "<style scoped>\n",
       "    .dataframe tbody tr th:only-of-type {\n",
       "        vertical-align: middle;\n",
       "    }\n",
       "\n",
       "    .dataframe tbody tr th {\n",
       "        vertical-align: top;\n",
       "    }\n",
       "\n",
       "    .dataframe thead th {\n",
       "        text-align: right;\n",
       "    }\n",
       "</style>\n",
       "<table border=\"1\" class=\"dataframe\">\n",
       "  <thead>\n",
       "    <tr style=\"text-align: right;\">\n",
       "      <th></th>\n",
       "      <th>ID</th>\n",
       "      <th>Category</th>\n",
       "      <th>Feature</th>\n",
       "    </tr>\n",
       "  </thead>\n",
       "  <tbody>\n",
       "    <tr>\n",
       "      <th>0</th>\n",
       "      <td>16852973</td>\n",
       "      <td>HR</td>\n",
       "      <td>hr administrator marketing associate hr admini...</td>\n",
       "    </tr>\n",
       "    <tr>\n",
       "      <th>1</th>\n",
       "      <td>22323967</td>\n",
       "      <td>HR</td>\n",
       "      <td>hr specialist hr operations summary media prof...</td>\n",
       "    </tr>\n",
       "    <tr>\n",
       "      <th>2</th>\n",
       "      <td>33176873</td>\n",
       "      <td>HR</td>\n",
       "      <td>hr director summary years experience recruitin...</td>\n",
       "    </tr>\n",
       "    <tr>\n",
       "      <th>3</th>\n",
       "      <td>27018550</td>\n",
       "      <td>HR</td>\n",
       "      <td>hr specialist summary dedicated driven dynamic...</td>\n",
       "    </tr>\n",
       "    <tr>\n",
       "      <th>4</th>\n",
       "      <td>17812897</td>\n",
       "      <td>HR</td>\n",
       "      <td>hr manager skill highlights hr skills hr depar...</td>\n",
       "    </tr>\n",
       "    <tr>\n",
       "      <th>...</th>\n",
       "      <td>...</td>\n",
       "      <td>...</td>\n",
       "      <td>...</td>\n",
       "    </tr>\n",
       "    <tr>\n",
       "      <th>2479</th>\n",
       "      <td>99416532</td>\n",
       "      <td>AVIATION</td>\n",
       "      <td>rank sgt e non commissioned officer charge bri...</td>\n",
       "    </tr>\n",
       "    <tr>\n",
       "      <th>2480</th>\n",
       "      <td>24589765</td>\n",
       "      <td>AVIATION</td>\n",
       "      <td>government relations communications organizati...</td>\n",
       "    </tr>\n",
       "    <tr>\n",
       "      <th>2481</th>\n",
       "      <td>31605080</td>\n",
       "      <td>AVIATION</td>\n",
       "      <td>geek squad agent professional profile support ...</td>\n",
       "    </tr>\n",
       "    <tr>\n",
       "      <th>2482</th>\n",
       "      <td>21190805</td>\n",
       "      <td>AVIATION</td>\n",
       "      <td>program director office manager summary highly...</td>\n",
       "    </tr>\n",
       "    <tr>\n",
       "      <th>2483</th>\n",
       "      <td>37473139</td>\n",
       "      <td>AVIATION</td>\n",
       "      <td>storekeeper ii professional summary purpose do...</td>\n",
       "    </tr>\n",
       "  </tbody>\n",
       "</table>\n",
       "<p>2484 rows × 3 columns</p>\n",
       "</div>"
      ],
      "text/plain": [
       "            ID  Category                                            Feature\n",
       "0     16852973        HR  hr administrator marketing associate hr admini...\n",
       "1     22323967        HR  hr specialist hr operations summary media prof...\n",
       "2     33176873        HR  hr director summary years experience recruitin...\n",
       "3     27018550        HR  hr specialist summary dedicated driven dynamic...\n",
       "4     17812897        HR  hr manager skill highlights hr skills hr depar...\n",
       "...        ...       ...                                                ...\n",
       "2479  99416532  AVIATION  rank sgt e non commissioned officer charge bri...\n",
       "2480  24589765  AVIATION  government relations communications organizati...\n",
       "2481  31605080  AVIATION  geek squad agent professional profile support ...\n",
       "2482  21190805  AVIATION  program director office manager summary highly...\n",
       "2483  37473139  AVIATION  storekeeper ii professional summary purpose do...\n",
       "\n",
       "[2484 rows x 3 columns]"
      ]
     },
     "execution_count": 3,
     "metadata": {},
     "output_type": "execute_result"
    }
   ],
   "source": [
    "df"
   ]
  },
  {
   "cell_type": "code",
   "execution_count": 4,
   "id": "415f6af5",
   "metadata": {},
   "outputs": [
    {
     "data": {
      "text/plain": [
       "(2484, 3)"
      ]
     },
     "execution_count": 4,
     "metadata": {},
     "output_type": "execute_result"
    }
   ],
   "source": [
    "df.shape"
   ]
  },
  {
   "cell_type": "code",
   "execution_count": 5,
   "id": "3facbe14",
   "metadata": {
    "scrolled": false
   },
   "outputs": [
    {
     "data": {
      "text/plain": [
       "Category\n",
       "INFORMATION-TECHNOLOGY    120\n",
       "BUSINESS-DEVELOPMENT      120\n",
       "FINANCE                   118\n",
       "ADVOCATE                  118\n",
       "ACCOUNTANT                118\n",
       "ENGINEERING               118\n",
       "CHEF                      118\n",
       "AVIATION                  117\n",
       "FITNESS                   117\n",
       "SALES                     116\n",
       "BANKING                   115\n",
       "HEALTHCARE                115\n",
       "CONSULTANT                115\n",
       "CONSTRUCTION              112\n",
       "PUBLIC-RELATIONS          111\n",
       "HR                        110\n",
       "DESIGNER                  107\n",
       "ARTS                      103\n",
       "TEACHER                   102\n",
       "APPAREL                    97\n",
       "DIGITAL-MEDIA              96\n",
       "AGRICULTURE                63\n",
       "AUTOMOBILE                 36\n",
       "BPO                        22\n",
       "Name: count, dtype: int64"
      ]
     },
     "execution_count": 5,
     "metadata": {},
     "output_type": "execute_result"
    }
   ],
   "source": [
    "df['Category'].value_counts()"
   ]
  },
  {
   "cell_type": "code",
   "execution_count": 6,
   "id": "087c07d3",
   "metadata": {
    "scrolled": true
   },
   "outputs": [
    {
     "data": {
      "text/plain": [
       "<AxesSubplot:ylabel='count'>"
      ]
     },
     "execution_count": 6,
     "metadata": {},
     "output_type": "execute_result"
    },
    {
     "data": {
      "image/png": "[encoded data removed]",
      "text/plain": [
       "<Figure size 640x480 with 1 Axes>"
      ]
     },
     "metadata": {},
     "output_type": "display_data"
    }
   ],
   "source": [
    "df['Category'].value_counts().plot(kind='pie', autopct='%.2f')"
   ]
  },
  {
   "cell_type": "code",
   "execution_count": 7,
   "id": "fa3de6e9",
   "metadata": {},
   "outputs": [],
   "source": [
    "import matplotlib.pyplot as plt"
   ]
  },
  {
   "cell_type": "code",
   "execution_count": 14,
   "id": "50647b39",
   "metadata": {},
   "outputs": [
    {
     "data": {
      "text/plain": [
       "array(['HR', 'DESIGNER', 'INFORMATION-TECHNOLOGY', 'TEACHER', 'ADVOCATE',\n",
       "       'BUSINESS-DEVELOPMENT', 'HEALTHCARE', 'FITNESS', 'AGRICULTURE',\n",
       "       'BPO', 'SALES', 'CONSULTANT', 'DIGITAL-MEDIA', 'AUTOMOBILE',\n",
       "       'CHEF', 'FINANCE', 'APPAREL', 'ENGINEERING', 'ACCOUNTANT',\n",
       "       'CONSTRUCTION', 'PUBLIC-RELATIONS', 'BANKING', 'ARTS', 'AVIATION'],\n",
       "      dtype=object)"
      ]
     },
     "execution_count": 14,
     "metadata": {},
     "output_type": "execute_result"
    }
   ],
   "source": [
    "df['Category'].unique()"
   ]
  },
  {
   "cell_type": "code",
   "execution_count": 9,
   "id": "e966d5de",
   "metadata": {},
   "outputs": [],
   "source": [
    "from sklearn.utils import resample\n",
    "\n",
    "#define the maximum count among all categories\n",
    "max_count= df['Category'].value_counts().max()\n",
    "\n",
    "\n",
    "#resample each category to match the maximum count\n",
    "balanced_data= []\n",
    "\n",
    "for category in df['Category'].unique():\n",
    "    category_data= df[df['Category']== category]\n",
    "    if (len(category_data)<max_count):\n",
    "        #perform oversampling for categories with fewer samples\n",
    "        balanced_category_data= resample(category_data, replace=True, n_samples=max_count, random_state=50)\n",
    "    else:\n",
    "        #perform undersampling for categories with more samples\n",
    "        balanced_category_data= resample(category_data, replace=False, n_samples=max_count, random_state=50)\n",
    "    \n",
    "    balanced_data.append(balanced_category_data)\n",
    "\n",
    "balanced_df= pd.concat(balanced_data)"
   ]
  },
  {
   "cell_type": "code",
   "execution_count": 10,
   "id": "4835da22",
   "metadata": {},
   "outputs": [
    {
     "data": {
      "text/html": [
       "<div>\n",
       "<style scoped>\n",
       "    .dataframe tbody tr th:only-of-type {\n",
       "        vertical-align: middle;\n",
       "    }\n",
       "\n",
       "    .dataframe tbody tr th {\n",
       "        vertical-align: top;\n",
       "    }\n",
       "\n",
       "    .dataframe thead th {\n",
       "        text-align: right;\n",
       "    }\n",
       "</style>\n",
       "<table border=\"1\" class=\"dataframe\">\n",
       "  <thead>\n",
       "    <tr style=\"text-align: right;\">\n",
       "      <th></th>\n",
       "      <th>ID</th>\n",
       "      <th>Category</th>\n",
       "      <th>Feature</th>\n",
       "    </tr>\n",
       "  </thead>\n",
       "  <tbody>\n",
       "    <tr>\n",
       "      <th>48</th>\n",
       "      <td>19867922</td>\n",
       "      <td>HR</td>\n",
       "      <td>hr generalist experience current provide gener...</td>\n",
       "    </tr>\n",
       "    <tr>\n",
       "      <th>96</th>\n",
       "      <td>15575117</td>\n",
       "      <td>HR</td>\n",
       "      <td>hr senior specialist career overview dedicated...</td>\n",
       "    </tr>\n",
       "    <tr>\n",
       "      <th>11</th>\n",
       "      <td>11480899</td>\n",
       "      <td>HR</td>\n",
       "      <td>hr manager summary human resources manager pra...</td>\n",
       "    </tr>\n",
       "    <tr>\n",
       "      <th>109</th>\n",
       "      <td>25150191</td>\n",
       "      <td>HR</td>\n",
       "      <td>hr contact center specialist summary forward t...</td>\n",
       "    </tr>\n",
       "    <tr>\n",
       "      <th>33</th>\n",
       "      <td>57667857</td>\n",
       "      <td>HR</td>\n",
       "      <td>hr consultant summary detail oriented years hu...</td>\n",
       "    </tr>\n",
       "    <tr>\n",
       "      <th>...</th>\n",
       "      <td>...</td>\n",
       "      <td>...</td>\n",
       "      <td>...</td>\n",
       "    </tr>\n",
       "    <tr>\n",
       "      <th>2394</th>\n",
       "      <td>14790629</td>\n",
       "      <td>AVIATION</td>\n",
       "      <td>senior manager customer support summary charis...</td>\n",
       "    </tr>\n",
       "    <tr>\n",
       "      <th>2417</th>\n",
       "      <td>19506295</td>\n",
       "      <td>AVIATION</td>\n",
       "      <td>lead engineer fluid systems thermal accessorie...</td>\n",
       "    </tr>\n",
       "    <tr>\n",
       "      <th>2425</th>\n",
       "      <td>11333001</td>\n",
       "      <td>AVIATION</td>\n",
       "      <td>operations technician summary multi faceted me...</td>\n",
       "    </tr>\n",
       "    <tr>\n",
       "      <th>2395</th>\n",
       "      <td>12144825</td>\n",
       "      <td>AVIATION</td>\n",
       "      <td>software engineering co summary highly skilled...</td>\n",
       "    </tr>\n",
       "    <tr>\n",
       "      <th>2398</th>\n",
       "      <td>94137171</td>\n",
       "      <td>AVIATION</td>\n",
       "      <td>plant fulfillment leader summary dedicated lea...</td>\n",
       "    </tr>\n",
       "  </tbody>\n",
       "</table>\n",
       "<p>2880 rows × 3 columns</p>\n",
       "</div>"
      ],
      "text/plain": [
       "            ID  Category                                            Feature\n",
       "48    19867922        HR  hr generalist experience current provide gener...\n",
       "96    15575117        HR  hr senior specialist career overview dedicated...\n",
       "11    11480899        HR  hr manager summary human resources manager pra...\n",
       "109   25150191        HR  hr contact center specialist summary forward t...\n",
       "33    57667857        HR  hr consultant summary detail oriented years hu...\n",
       "...        ...       ...                                                ...\n",
       "2394  14790629  AVIATION  senior manager customer support summary charis...\n",
       "2417  19506295  AVIATION  lead engineer fluid systems thermal accessorie...\n",
       "2425  11333001  AVIATION  operations technician summary multi faceted me...\n",
       "2395  12144825  AVIATION  software engineering co summary highly skilled...\n",
       "2398  94137171  AVIATION  plant fulfillment leader summary dedicated lea...\n",
       "\n",
       "[2880 rows x 3 columns]"
      ]
     },
     "execution_count": 10,
     "metadata": {},
     "output_type": "execute_result"
    }
   ],
   "source": [
    "balanced_df"
   ]
  },
  {
   "cell_type": "code",
   "execution_count": 11,
   "id": "93ba9d5a",
   "metadata": {},
   "outputs": [
    {
     "data": {
      "text/plain": [
       "Category\n",
       "HR                        120\n",
       "DESIGNER                  120\n",
       "ARTS                      120\n",
       "BANKING                   120\n",
       "PUBLIC-RELATIONS          120\n",
       "CONSTRUCTION              120\n",
       "ACCOUNTANT                120\n",
       "ENGINEERING               120\n",
       "APPAREL                   120\n",
       "FINANCE                   120\n",
       "CHEF                      120\n",
       "AUTOMOBILE                120\n",
       "DIGITAL-MEDIA             120\n",
       "CONSULTANT                120\n",
       "SALES                     120\n",
       "BPO                       120\n",
       "AGRICULTURE               120\n",
       "FITNESS                   120\n",
       "HEALTHCARE                120\n",
       "BUSINESS-DEVELOPMENT      120\n",
       "ADVOCATE                  120\n",
       "TEACHER                   120\n",
       "INFORMATION-TECHNOLOGY    120\n",
       "AVIATION                  120\n",
       "Name: count, dtype: int64"
      ]
     },
     "execution_count": 11,
     "metadata": {},
     "output_type": "execute_result"
    }
   ],
   "source": [
    "balanced_df['Category'].value_counts()"
   ]
  },
  {
   "cell_type": "code",
   "execution_count": 12,
   "id": "80319902",
   "metadata": {},
   "outputs": [
    {
     "data": {
      "text/plain": [
       "ID          0\n",
       "Category    0\n",
       "Feature     1\n",
       "dtype: int64"
      ]
     },
     "execution_count": 12,
     "metadata": {},
     "output_type": "execute_result"
    }
   ],
   "source": [
    "balanced_df.isnull().sum()"
   ]
  },
  {
   "cell_type": "code",
   "execution_count": 13,
   "id": "411961e6",
   "metadata": {},
   "outputs": [],
   "source": [
    "balanced_df.dropna(inplace=True)"
   ]
  },
  {
   "cell_type": "code",
   "execution_count": 14,
   "id": "e485c673",
   "metadata": {},
   "outputs": [
    {
     "data": {
      "text/plain": [
       "ID          0\n",
       "Category    0\n",
       "Feature     0\n",
       "dtype: int64"
      ]
     },
     "execution_count": 14,
     "metadata": {},
     "output_type": "execute_result"
    }
   ],
   "source": [
    "balanced_df.isnull().sum()"
   ]
  },
  {
   "cell_type": "code",
   "execution_count": 15,
   "id": "68310a4d",
   "metadata": {},
   "outputs": [],
   "source": [
    "from sklearn.model_selection import train_test_split"
   ]
  },
  {
   "cell_type": "code",
   "execution_count": 16,
   "id": "432688ea",
   "metadata": {},
   "outputs": [],
   "source": [
    "x= balanced_df['Feature']\n",
    "y= balanced_df['Category']\n",
    "\n",
    "x_train, x_test, y_train, y_test= train_test_split(x, y, test_size=0.2, random_state=50)"
   ]
  },
  {
   "cell_type": "code",
   "execution_count": 17,
   "id": "0aecc0c2",
   "metadata": {},
   "outputs": [
    {
     "data": {
      "text/plain": [
       "2038    public relations liaison sales representative ...\n",
       "186     senior graphic designer summary diverse result...\n",
       "940     financial institution examiner summary commiss...\n",
       "2264    arts educator summary creative innovative art ...\n",
       "1086    sales representative summary ambitious yard ma...\n",
       "                              ...                        \n",
       "1623    director engineering executive profile proacti...\n",
       "1718    engineering technologist summary obtain positi...\n",
       "1664    product marketing manager professional summary...\n",
       "1270    media administrator professional summary artic...\n",
       "1363    chef summary highly organized efficient fast p...\n",
       "Name: Feature, Length: 2303, dtype: object"
      ]
     },
     "execution_count": 17,
     "metadata": {},
     "output_type": "execute_result"
    }
   ],
   "source": [
    "x_train"
   ]
  },
  {
   "cell_type": "code",
   "execution_count": 18,
   "id": "df53689a",
   "metadata": {},
   "outputs": [],
   "source": [
    "from sklearn.feature_extraction.text import TfidfVectorizer"
   ]
  },
  {
   "cell_type": "code",
   "execution_count": 19,
   "id": "2e2246bc",
   "metadata": {},
   "outputs": [],
   "source": [
    "tfid= TfidfVectorizer()"
   ]
  },
  {
   "cell_type": "code",
   "execution_count": 20,
   "id": "db692476",
   "metadata": {},
   "outputs": [],
   "source": [
    "x_train_tfid= tfid.fit_transform(x_train)\n",
    "x_test_tfid= tfid.transform(x_test)"
   ]
  },
  {
   "cell_type": "code",
   "execution_count": 21,
   "id": "5d31715b",
   "metadata": {},
   "outputs": [],
   "source": [
    "from sklearn import svm\n",
    "from sklearn.ensemble import RandomForestClassifier\n",
    "from sklearn.linear_model import LogisticRegression\n",
    "from sklearn.naive_bayes import GaussianNB\n",
    "from sklearn.naive_bayes import MultinomialNB\n",
    "from sklearn.tree import DecisionTreeClassifier"
   ]
  },
  {
   "cell_type": "code",
   "execution_count": 22,
   "id": "28803963",
   "metadata": {},
   "outputs": [],
   "source": [
    "model_params= {\n",
    "    'svm': {\n",
    "        'model': svm.SVC(gamma='auto'),\n",
    "        'params': {\n",
    "            'C': [1, 5, 10, 15, 20],\n",
    "            'kernel': ['linear', 'poly', 'rbf']\n",
    "        }\n",
    "    },\n",
    "    'random_forest':{\n",
    "        'model': RandomForestClassifier(),\n",
    "        'params':{\n",
    "            'n_estimators': range(1,6),\n",
    "            'criterion': ['gini', 'entropy', 'log_loss']\n",
    "        }\n",
    "    },\n",
    "    'logistic_regression':{\n",
    "        'model': LogisticRegression(solver='liblinear', multi_class='auto'),\n",
    "        'params':{\n",
    "            'C': [1, 5, 10, 15, 10],\n",
    "            'penalty': ['l1','l2'],\n",
    "        }\n",
    "    },\n",
    "    'decision_tree': {\n",
    "        'model': DecisionTreeClassifier(random_state= 0),\n",
    "        'params':{\n",
    "            'criterion': ['gini', 'entropy'],\n",
    "            'max_depth':[1,2,3,4]\n",
    "        }\n",
    "    }\n",
    "}"
   ]
  },
  {
   "cell_type": "code",
   "execution_count": 23,
   "id": "9d24b1a3",
   "metadata": {},
   "outputs": [],
   "source": [
    "from sklearn.model_selection import GridSearchCV"
   ]
  },
  {
   "cell_type": "code",
   "execution_count": 24,
   "id": "b87accf1",
   "metadata": {},
   "outputs": [],
   "source": [
    "scores= []\n",
    "\n",
    "for model_name, mp in model_params.items():\n",
    "    clf= GridSearchCV(mp['model'], mp['params'], cv=5, return_train_score=False)\n",
    "    clf.fit(x_train_tfid, y_train)\n",
    "    scores.append({\n",
    "        'model': model_name,\n",
    "        'best_score': clf.best_score_,\n",
    "        'best_params': clf.best_params_\n",
    "    })"
   ]
  },
  {
   "cell_type": "code",
   "execution_count": 25,
   "id": "e40f5658",
   "metadata": {},
   "outputs": [
    {
     "data": {
      "text/html": [
       "<div>\n",
       "<style scoped>\n",
       "    .dataframe tbody tr th:only-of-type {\n",
       "        vertical-align: middle;\n",
       "    }\n",
       "\n",
       "    .dataframe tbody tr th {\n",
       "        vertical-align: top;\n",
       "    }\n",
       "\n",
       "    .dataframe thead th {\n",
       "        text-align: right;\n",
       "    }\n",
       "</style>\n",
       "<table border=\"1\" class=\"dataframe\">\n",
       "  <thead>\n",
       "    <tr style=\"text-align: right;\">\n",
       "      <th></th>\n",
       "      <th>model</th>\n",
       "      <th>best_score</th>\n",
       "      <th>best_params</th>\n",
       "    </tr>\n",
       "  </thead>\n",
       "  <tbody>\n",
       "    <tr>\n",
       "      <th>0</th>\n",
       "      <td>svm</td>\n",
       "      <td>0.818939</td>\n",
       "      <td>{'C': 5, 'kernel': 'linear'}</td>\n",
       "    </tr>\n",
       "    <tr>\n",
       "      <th>1</th>\n",
       "      <td>random_forest</td>\n",
       "      <td>0.669553</td>\n",
       "      <td>{'criterion': 'gini', 'n_estimators': 5}</td>\n",
       "    </tr>\n",
       "    <tr>\n",
       "      <th>2</th>\n",
       "      <td>logistic_regression</td>\n",
       "      <td>0.847589</td>\n",
       "      <td>{'C': 15, 'penalty': 'l1'}</td>\n",
       "    </tr>\n",
       "    <tr>\n",
       "      <th>3</th>\n",
       "      <td>decision_tree</td>\n",
       "      <td>0.218416</td>\n",
       "      <td>{'criterion': 'entropy', 'max_depth': 4}</td>\n",
       "    </tr>\n",
       "  </tbody>\n",
       "</table>\n",
       "</div>"
      ],
      "text/plain": [
       "                 model  best_score                               best_params\n",
       "0                  svm    0.818939              {'C': 5, 'kernel': 'linear'}\n",
       "1        random_forest    0.669553  {'criterion': 'gini', 'n_estimators': 5}\n",
       "2  logistic_regression    0.847589                {'C': 15, 'penalty': 'l1'}\n",
       "3        decision_tree    0.218416  {'criterion': 'entropy', 'max_depth': 4}"
      ]
     },
     "execution_count": 25,
     "metadata": {},
     "output_type": "execute_result"
    }
   ],
   "source": [
    "score= pd.DataFrame(scores, columns=['model', 'best_score', 'best_params'])\n",
    "score"
   ]
  },
  {
   "cell_type": "code",
   "execution_count": 40,
   "id": "e69d56be",
   "metadata": {},
   "outputs": [
    {
     "data": {
      "text/html": [
       "<style>#sk-container-id-5 {color: black;background-color: white;}#sk-container-id-5 pre{padding: 0;}#sk-container-id-5 div.sk-toggleable {background-color: white;}#sk-container-id-5 label.sk-toggleable__label {cursor: pointer;display: block;width: 100%;margin-bottom: 0;padding: 0.3em;box-sizing: border-box;text-align: center;}#sk-container-id-5 label.sk-toggleable__label-arrow:before {content: \"▸\";float: left;margin-right: 0.25em;color: #696969;}#sk-container-id-5 label.sk-toggleable__label-arrow:hover:before {color: black;}#sk-container-id-5 div.sk-estimator:hover label.sk-toggleable__label-arrow:before {color: black;}#sk-container-id-5 div.sk-toggleable__content {max-height: 0;max-width: 0;overflow: hidden;text-align: left;background-color: #f0f8ff;}#sk-container-id-5 div.sk-toggleable__content pre {margin: 0.2em;color: black;border-radius: 0.25em;background-color: #f0f8ff;}#sk-container-id-5 input.sk-toggleable__control:checked~div.sk-toggleable__content {max-height: 200px;max-width: 100%;overflow: auto;}#sk-container-id-5 input.sk-toggleable__control:checked~label.sk-toggleable__label-arrow:before {content: \"▾\";}#sk-container-id-5 div.sk-estimator input.sk-toggleable__control:checked~label.sk-toggleable__label {background-color: #d4ebff;}#sk-container-id-5 div.sk-label input.sk-toggleable__control:checked~label.sk-toggleable__label {background-color: #d4ebff;}#sk-container-id-5 input.sk-hidden--visually {border: 0;clip: rect(1px 1px 1px 1px);clip: rect(1px, 1px, 1px, 1px);height: 1px;margin: -1px;overflow: hidden;padding: 0;position: absolute;width: 1px;}#sk-container-id-5 div.sk-estimator {font-family: monospace;background-color: #f0f8ff;border: 1px dotted black;border-radius: 0.25em;box-sizing: border-box;margin-bottom: 0.5em;}#sk-container-id-5 div.sk-estimator:hover {background-color: #d4ebff;}#sk-container-id-5 div.sk-parallel-item::after {content: \"\";width: 100%;border-bottom: 1px solid gray;flex-grow: 1;}#sk-container-id-5 div.sk-label:hover label.sk-toggleable__label {background-color: #d4ebff;}#sk-container-id-5 div.sk-serial::before {content: \"\";position: absolute;border-left: 1px solid gray;box-sizing: border-box;top: 0;bottom: 0;left: 50%;z-index: 0;}#sk-container-id-5 div.sk-serial {display: flex;flex-direction: column;align-items: center;background-color: white;padding-right: 0.2em;padding-left: 0.2em;position: relative;}#sk-container-id-5 div.sk-item {position: relative;z-index: 1;}#sk-container-id-5 div.sk-parallel {display: flex;align-items: stretch;justify-content: center;background-color: white;position: relative;}#sk-container-id-5 div.sk-item::before, #sk-container-id-5 div.sk-parallel-item::before {content: \"\";position: absolute;border-left: 1px solid gray;box-sizing: border-box;top: 0;bottom: 0;left: 50%;z-index: -1;}#sk-container-id-5 div.sk-parallel-item {display: flex;flex-direction: column;z-index: 1;position: relative;background-color: white;}#sk-container-id-5 div.sk-parallel-item:first-child::after {align-self: flex-end;width: 50%;}#sk-container-id-5 div.sk-parallel-item:last-child::after {align-self: flex-start;width: 50%;}#sk-container-id-5 div.sk-parallel-item:only-child::after {width: 0;}#sk-container-id-5 div.sk-dashed-wrapped {border: 1px dashed gray;margin: 0 0.4em 0.5em 0.4em;box-sizing: border-box;padding-bottom: 0.4em;background-color: white;}#sk-container-id-5 div.sk-label label {font-family: monospace;font-weight: bold;display: inline-block;line-height: 1.2em;}#sk-container-id-5 div.sk-label-container {text-align: center;}#sk-container-id-5 div.sk-container {/* jupyter's `normalize.less` sets `[hidden] { display: none; }` but bootstrap.min.css set `[hidden] { display: none !important; }` so we also need the `!important` here to be able to override the default hidden behavior on the sphinx rendered scikit-learn.org. See: https://github.com/scikit-learn/scikit-learn/issues/21755 */display: inline-block !important;position: relative;}#sk-container-id-5 div.sk-text-repr-fallback {display: none;}</style><div id=\"sk-container-id-5\" class=\"sk-top-container\"><div class=\"sk-text-repr-fallback\"><pre>LogisticRegression(C=15, penalty=&#x27;l1&#x27;, solver=&#x27;liblinear&#x27;)</pre><b>In a Jupyter environment, please rerun this cell to show the HTML representation or trust the notebook. <br />On GitHub, the HTML representation is unable to render, please try loading this page with nbviewer.org.</b></div><div class=\"sk-container\" hidden><div class=\"sk-item\"><div class=\"sk-estimator sk-toggleable\"><input class=\"sk-toggleable__control sk-hidden--visually\" id=\"sk-estimator-id-5\" type=\"checkbox\" checked><label for=\"sk-estimator-id-5\" class=\"sk-toggleable__label sk-toggleable__label-arrow\">LogisticRegression</label><div class=\"sk-toggleable__content\"><pre>LogisticRegression(C=15, penalty=&#x27;l1&#x27;, solver=&#x27;liblinear&#x27;)</pre></div></div></div></div></div>"
      ],
      "text/plain": [
       "LogisticRegression(C=15, penalty='l1', solver='liblinear')"
      ]
     },
     "execution_count": 40,
     "metadata": {},
     "output_type": "execute_result"
    }
   ],
   "source": [
    "model = LogisticRegression(solver='liblinear', multi_class='auto', C=15, penalty='l1')\n",
    "model.fit(x_train_tfid, y_train)"
   ]
  },
  {
   "cell_type": "code",
   "execution_count": 41,
   "id": "8921ed84",
   "metadata": {},
   "outputs": [
    {
     "name": "stdout",
     "output_type": "stream",
     "text": [
      "Accuracy:  0.890625\n"
     ]
    }
   ],
   "source": [
    "y_pred= model.predict(x_test_tfid)\n",
    "accuracy= accuracy_score(y_test, y_pred)\n",
    "print(\"Accuracy: \", accuracy)"
   ]
  },
  {
   "cell_type": "code",
   "execution_count": 59,
   "id": "87d95b00",
   "metadata": {},
   "outputs": [
    {
     "data": {
      "text/plain": [
       "array(['FITNESS'], dtype=object)"
      ]
     },
     "execution_count": 59,
     "metadata": {},
     "output_type": "execute_result"
    }
   ],
   "source": [
    "from io import StringIO\n",
    " \n",
    "StringData = StringIO(\"\"\"portfolio management supervision\n",
    "    \"\"\")\n",
    " \n",
    "x = pd.read_csv(StringData, sep =\";\")\n",
    "\n",
    "test_tfid= tfid.transform(x)\n",
    "y_pred= model.predict(test_tfid)\n",
    "y_pred"
   ]
  },
  {
   "cell_type": "code",
   "execution_count": 60,
   "id": "7b5ad170",
   "metadata": {},
   "outputs": [],
   "source": [
    "balanced_df.to_csv('clean_resume_data_balanced.csv', index = False)"
   ]
  },
  {
   "cell_type": "code",
   "execution_count": null,
   "id": "73bc7027",
   "metadata": {},
   "outputs": [],
   "source": []
  }
 ],
 "metadata": {
  "kernelspec": {
   "display_name": "Python 3 (ipykernel)",
   "language": "python",
   "name": "python3"
  },
  "language_info": {
   "codemirror_mode": {
    "name": "ipython",
    "version": 3
   },
   "file_extension": ".py",
   "mimetype": "text/x-python",
   "name": "python",
   "nbconvert_exporter": "python",
   "pygments_lexer": "ipython3",
   "version": "3.10.10"
  }
 },
 "nbformat": 4,
 "nbformat_minor": 5
}
