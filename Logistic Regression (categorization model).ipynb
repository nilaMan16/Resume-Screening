{
 "cells": [
  {
   "cell_type": "code",
   "execution_count": 1,
   "id": "09d86b79",
   "metadata": {},
   "outputs": [],
   "source": [
    "import numpy as np\n",
    "import pandas as pd"
   ]
  },
  {
   "cell_type": "code",
   "execution_count": 2,
   "id": "c171794d",
   "metadata": {},
   "outputs": [],
   "source": [
    "df= pd.read_csv('clean_resume_data_balanced.csv')"
   ]
  },
  {
   "cell_type": "code",
   "execution_count": 3,
   "id": "78a428ba",
   "metadata": {},
   "outputs": [],
   "source": [
    "from sklearn.model_selection import train_test_split"
   ]
  },
  {
   "cell_type": "code",
   "execution_count": 4,
   "id": "2af24781",
   "metadata": {},
   "outputs": [],
   "source": [
    "x= df['Feature']\n",
    "y= df['Category']\n",
    "\n",
    "x_train, x_test, y_train, y_test= train_test_split(x, y, test_size=0.2, random_state=50)"
   ]
  },
  {
   "cell_type": "code",
   "execution_count": 5,
   "id": "050f2ec9",
   "metadata": {},
   "outputs": [],
   "source": [
    "from sklearn.feature_extraction.text import TfidfVectorizer"
   ]
  },
  {
   "cell_type": "code",
   "execution_count": 6,
   "id": "39086404",
   "metadata": {},
   "outputs": [],
   "source": [
    "tfid= TfidfVectorizer()"
   ]
  },
  {
   "cell_type": "code",
   "execution_count": 7,
   "id": "a8ee9054",
   "metadata": {},
   "outputs": [],
   "source": [
    "x_train_tfid= tfid.fit_transform(x_train)\n",
    "x_test_tfid= tfid.transform(x_test)"
   ]
  },
  {
   "cell_type": "code",
   "execution_count": 8,
   "id": "57c6a5be",
   "metadata": {},
   "outputs": [],
   "source": [
    "from sklearn.linear_model import LogisticRegression"
   ]
  },
  {
   "cell_type": "code",
   "execution_count": 9,
   "id": "4c2f8318",
   "metadata": {},
   "outputs": [],
   "source": [
    "model= LogisticRegression(solver='liblinear', multi_class='auto', C=15, penalty='l1')"
   ]
  },
  {
   "cell_type": "code",
   "execution_count": 10,
   "id": "a337ea8d",
   "metadata": {},
   "outputs": [
    {
     "data": {
      "text/html": [
       "<style>#sk-container-id-1 {color: black;background-color: white;}#sk-container-id-1 pre{padding: 0;}#sk-container-id-1 div.sk-toggleable {background-color: white;}#sk-container-id-1 label.sk-toggleable__label {cursor: pointer;display: block;width: 100%;margin-bottom: 0;padding: 0.3em;box-sizing: border-box;text-align: center;}#sk-container-id-1 label.sk-toggleable__label-arrow:before {content: \"▸\";float: left;margin-right: 0.25em;color: #696969;}#sk-container-id-1 label.sk-toggleable__label-arrow:hover:before {color: black;}#sk-container-id-1 div.sk-estimator:hover label.sk-toggleable__label-arrow:before {color: black;}#sk-container-id-1 div.sk-toggleable__content {max-height: 0;max-width: 0;overflow: hidden;text-align: left;background-color: #f0f8ff;}#sk-container-id-1 div.sk-toggleable__content pre {margin: 0.2em;color: black;border-radius: 0.25em;background-color: #f0f8ff;}#sk-container-id-1 input.sk-toggleable__control:checked~div.sk-toggleable__content {max-height: 200px;max-width: 100%;overflow: auto;}#sk-container-id-1 input.sk-toggleable__control:checked~label.sk-toggleable__label-arrow:before {content: \"▾\";}#sk-container-id-1 div.sk-estimator input.sk-toggleable__control:checked~label.sk-toggleable__label {background-color: #d4ebff;}#sk-container-id-1 div.sk-label input.sk-toggleable__control:checked~label.sk-toggleable__label {background-color: #d4ebff;}#sk-container-id-1 input.sk-hidden--visually {border: 0;clip: rect(1px 1px 1px 1px);clip: rect(1px, 1px, 1px, 1px);height: 1px;margin: -1px;overflow: hidden;padding: 0;position: absolute;width: 1px;}#sk-container-id-1 div.sk-estimator {font-family: monospace;background-color: #f0f8ff;border: 1px dotted black;border-radius: 0.25em;box-sizing: border-box;margin-bottom: 0.5em;}#sk-container-id-1 div.sk-estimator:hover {background-color: #d4ebff;}#sk-container-id-1 div.sk-parallel-item::after {content: \"\";width: 100%;border-bottom: 1px solid gray;flex-grow: 1;}#sk-container-id-1 div.sk-label:hover label.sk-toggleable__label {background-color: #d4ebff;}#sk-container-id-1 div.sk-serial::before {content: \"\";position: absolute;border-left: 1px solid gray;box-sizing: border-box;top: 0;bottom: 0;left: 50%;z-index: 0;}#sk-container-id-1 div.sk-serial {display: flex;flex-direction: column;align-items: center;background-color: white;padding-right: 0.2em;padding-left: 0.2em;position: relative;}#sk-container-id-1 div.sk-item {position: relative;z-index: 1;}#sk-container-id-1 div.sk-parallel {display: flex;align-items: stretch;justify-content: center;background-color: white;position: relative;}#sk-container-id-1 div.sk-item::before, #sk-container-id-1 div.sk-parallel-item::before {content: \"\";position: absolute;border-left: 1px solid gray;box-sizing: border-box;top: 0;bottom: 0;left: 50%;z-index: -1;}#sk-container-id-1 div.sk-parallel-item {display: flex;flex-direction: column;z-index: 1;position: relative;background-color: white;}#sk-container-id-1 div.sk-parallel-item:first-child::after {align-self: flex-end;width: 50%;}#sk-container-id-1 div.sk-parallel-item:last-child::after {align-self: flex-start;width: 50%;}#sk-container-id-1 div.sk-parallel-item:only-child::after {width: 0;}#sk-container-id-1 div.sk-dashed-wrapped {border: 1px dashed gray;margin: 0 0.4em 0.5em 0.4em;box-sizing: border-box;padding-bottom: 0.4em;background-color: white;}#sk-container-id-1 div.sk-label label {font-family: monospace;font-weight: bold;display: inline-block;line-height: 1.2em;}#sk-container-id-1 div.sk-label-container {text-align: center;}#sk-container-id-1 div.sk-container {/* jupyter's `normalize.less` sets `[hidden] { display: none; }` but bootstrap.min.css set `[hidden] { display: none !important; }` so we also need the `!important` here to be able to override the default hidden behavior on the sphinx rendered scikit-learn.org. See: https://github.com/scikit-learn/scikit-learn/issues/21755 */display: inline-block !important;position: relative;}#sk-container-id-1 div.sk-text-repr-fallback {display: none;}</style><div id=\"sk-container-id-1\" class=\"sk-top-container\"><div class=\"sk-text-repr-fallback\"><pre>LogisticRegression(C=15, penalty=&#x27;l1&#x27;, solver=&#x27;liblinear&#x27;)</pre><b>In a Jupyter environment, please rerun this cell to show the HTML representation or trust the notebook. <br />On GitHub, the HTML representation is unable to render, please try loading this page with nbviewer.org.</b></div><div class=\"sk-container\" hidden><div class=\"sk-item\"><div class=\"sk-estimator sk-toggleable\"><input class=\"sk-toggleable__control sk-hidden--visually\" id=\"sk-estimator-id-1\" type=\"checkbox\" checked><label for=\"sk-estimator-id-1\" class=\"sk-toggleable__label sk-toggleable__label-arrow\">LogisticRegression</label><div class=\"sk-toggleable__content\"><pre>LogisticRegression(C=15, penalty=&#x27;l1&#x27;, solver=&#x27;liblinear&#x27;)</pre></div></div></div></div></div>"
      ],
      "text/plain": [
       "LogisticRegression(C=15, penalty='l1', solver='liblinear')"
      ]
     },
     "execution_count": 10,
     "metadata": {},
     "output_type": "execute_result"
    }
   ],
   "source": [
    "model.fit(x_train_tfid, y_train)"
   ]
  },
  {
   "cell_type": "code",
   "execution_count": 11,
   "id": "31a55df2",
   "metadata": {},
   "outputs": [],
   "source": [
    "from sklearn.metrics import accuracy_score"
   ]
  },
  {
   "cell_type": "code",
   "execution_count": 12,
   "id": "e4bc923a",
   "metadata": {},
   "outputs": [
    {
     "name": "stdout",
     "output_type": "stream",
     "text": [
      "Accuracy:  0.890625\n"
     ]
    }
   ],
   "source": [
    "y_pred= model.predict(x_test_tfid)\n",
    "accuracy= accuracy_score(y_test, y_pred)\n",
    "print(\"Accuracy: \", accuracy)"
   ]
  },
  {
   "cell_type": "markdown",
   "id": "8581ddb3",
   "metadata": {},
   "source": [
    "from io import StringIO\n",
    " \n",
    "StringData = StringIO(\"\"\" css linux scrum research django mysql engineering\n",
    "    \"\"\")\n",
    " \n",
    "x = pd.read_csv(StringData, sep =\";\")\n",
    "\n",
    "test_tfid= tfid.transform(x)\n",
    "y_pred= model.predict(test_tfid)\n",
    "y_pred"
   ]
  },
  {
   "cell_type": "code",
   "execution_count": 13,
   "id": "b797d7e4",
   "metadata": {},
   "outputs": [
    {
     "name": "stdout",
     "output_type": "stream",
     "text": [
      "Accuracy:  0.890625\n"
     ]
    }
   ],
   "source": [
    "y_pred= model.predict(x_test_tfid)\n",
    "accuracy= accuracy_score(y_test, y_pred)\n",
    "print(\"Accuracy: \", accuracy)"
   ]
  },
  {
   "cell_type": "code",
   "execution_count": 14,
   "id": "f2826a1c",
   "metadata": {},
   "outputs": [],
   "source": [
    "from sklearn.metrics import classification_report\n"
   ]
  },
  {
   "cell_type": "code",
   "execution_count": 15,
   "id": "ad9e5548",
   "metadata": {},
   "outputs": [
    {
     "name": "stdout",
     "output_type": "stream",
     "text": [
      "                        precision    recall  f1-score   support\n",
      "\n",
      "            ACCOUNTANT       0.89      1.00      0.94        17\n",
      "              ADVOCATE       0.76      0.90      0.83        21\n",
      "           AGRICULTURE       0.95      1.00      0.97        18\n",
      "               APPAREL       1.00      0.70      0.83        27\n",
      "                  ARTS       0.93      0.86      0.89        29\n",
      "            AUTOMOBILE       0.86      0.96      0.91        25\n",
      "              AVIATION       1.00      0.79      0.89        34\n",
      "               BANKING       0.96      0.88      0.92        26\n",
      "                   BPO       1.00      0.81      0.89        21\n",
      "  BUSINESS-DEVELOPMENT       0.72      0.78      0.75        27\n",
      "                  CHEF       1.00      0.95      0.98        21\n",
      "          CONSTRUCTION       0.96      0.96      0.96        25\n",
      "            CONSULTANT       0.75      0.81      0.78        26\n",
      "              DESIGNER       0.92      1.00      0.96        24\n",
      "         DIGITAL-MEDIA       0.84      1.00      0.91        21\n",
      "           ENGINEERING       0.88      0.96      0.92        24\n",
      "               FINANCE       0.85      0.92      0.88        25\n",
      "               FITNESS       1.00      0.95      0.98        21\n",
      "            HEALTHCARE       0.85      0.88      0.86        25\n",
      "                    HR       1.00      0.96      0.98        28\n",
      "INFORMATION-TECHNOLOGY       0.86      0.76      0.81        25\n",
      "      PUBLIC-RELATIONS       0.83      0.88      0.86        17\n",
      "                 SALES       0.73      0.79      0.76        24\n",
      "               TEACHER       0.96      1.00      0.98        25\n",
      "\n",
      "              accuracy                           0.89       576\n",
      "             macro avg       0.90      0.90      0.89       576\n",
      "          weighted avg       0.90      0.89      0.89       576\n",
      "\n"
     ]
    }
   ],
   "source": [
    "print(classification_report(y_test, y_pred))"
   ]
  },
  {
   "cell_type": "code",
   "execution_count": 16,
   "id": "ee8db2e6",
   "metadata": {},
   "outputs": [],
   "source": [
    "from sklearn.metrics import confusion_matrix\n",
    "import matplotlib.pyplot as plt\n",
    "import seaborn as sns"
   ]
  },
  {
   "cell_type": "code",
   "execution_count": 17,
   "id": "3de42d52",
   "metadata": {},
   "outputs": [
    {
     "data": {
      "image/png": "[encoded data removed]",
      "text/plain": [
       "<Figure size 1000x800 with 2 Axes>"
      ]
     },
     "metadata": {},
     "output_type": "display_data"
    }
   ],
   "source": [
    "cm= confusion_matrix(y_test, y_pred)\n",
    "\n",
    "plt.figure(figsize=(10,8))\n",
    "sns.heatmap(cm, annot=True, fmt='d', cmap='Blues')\n",
    "plt.xlabel('Predicted')\n",
    "plt.ylabel('True')\n",
    "plt.title('Confusion Matrix')\n",
    "plt.show()"
   ]
  },
  {
   "cell_type": "code",
   "execution_count": 22,
   "id": "8168ade4",
   "metadata": {},
   "outputs": [],
   "source": [
    "import re\n",
    "\n",
    "def cleanResume(txt):\n",
    "    cleanText= re.sub('http\\S+\\s', ' ', txt)\n",
    "    cleanText= re.sub('RT|cc', ' ', cleanText)\n",
    "    cleanText= re.sub('#\\S+\\s', ' ', cleanText)\n",
    "    cleanText= re.sub('@\\S+', ' ', cleanText)\n",
    "    cleanText= re.sub('[%s]' % re.escape(\"\"\"!\"#$%&()*+,-./:;<=>?@[\\]^_`{|}~\"\"\"), ' ', cleanText)\n",
    "    cleanText= re.sub(r'[^x00-\\x7f]', ' ', cleanText)\n",
    "    cleanText= re.sub('\\s+', ' ', cleanText)\n",
    "    return cleanText"
   ]
  },
  {
   "cell_type": "code",
   "execution_count": 25,
   "id": "84ce9ab9",
   "metadata": {},
   "outputs": [],
   "source": [
    "def predict_category(resume_text):\n",
    "    resume_text= cleanResume(resume_text)\n",
    "    resume_tfid= tfid.transform([resume_text])\n",
    "    predicted_category= model.predict(resume_tfid)[0]\n",
    "    return predicted_category"
   ]
  },
  {
   "cell_type": "code",
   "execution_count": 27,
   "id": "a31abd05",
   "metadata": {},
   "outputs": [
    {
     "name": "stdout",
     "output_type": "stream",
     "text": [
      "Category: DESIGNER\n"
     ]
    }
   ],
   "source": [
    "resume_file= \"\"\"Jane Doe\n",
    "123 Creative Avenue, Design City, CA 90000\n",
    "(123) 456-7890\n",
    "jane.doe@example.com\n",
    "Portfolio\n",
    "\n",
    "Summary\n",
    "Innovative and detail-oriented Graphic Designer with over 7 years of experience in creating compelling visual content. Proficient in Adobe Creative Suite, UX/UI design, and branding. Adept at collaborating with clients and cross-functional teams to deliver projects on time and within budget.\n",
    "\n",
    "Experience\n",
    "Senior Graphic Designer\n",
    "Creative Solutions Agency, Design City, CA\n",
    "January 2019 – Present\n",
    "\n",
    "Lead the design team in creating visual content for clients, including logos, brochures, websites, and social media graphics.\n",
    "Conducted UX/UI research and developed user-centered design solutions for web and mobile applications.\n",
    "Collaborated with marketing and development teams to ensure cohesive brand identity across all platforms.\n",
    "Managed multiple projects simultaneously, ensuring timely delivery and adherence to client specifications.\n",
    "Mentored junior designers and provided constructive feedback to enhance team skills.\n",
    "Graphic Designer\n",
    "Innovative Designs Inc., Design City, CA\n",
    "June 2015 – December 2018\n",
    "\n",
    "Developed creative concepts and designs for various print and digital media.\n",
    "Worked closely with clients to understand their vision and translate it into visual elements.\n",
    "Created wireframes, prototypes, and mockups for web and mobile applications.\n",
    "Assisted in the development of brand guidelines and ensured consistency across all marketing materials.\n",
    "Participated in brainstorming sessions and contributed to the overall creative strategy.\n",
    "Junior Graphic Designer\n",
    "Design Studios, Design City, CA\n",
    "July 2013 – May 2015\n",
    "\n",
    "Assisted senior designers in creating visual content for client projects.\n",
    "Edited and retouched photos for use in marketing materials.\n",
    "Designed marketing collateral, including flyers, posters, and banners.\n",
    "Conducted research on design trends and best practices to inform design decisions.\n",
    "Supported the design team in maintaining an organized and efficient workflow.\n",
    "Education\n",
    "Bachelor of Fine Arts in Graphic Design\n",
    "University of Design, Design City, CA\n",
    "Graduated: May 2013\n",
    "\n",
    "Skills\n",
    "Design Software: Adobe Creative Suite (Photoshop, Illustrator, InDesign, XD), Sketch, Figma\n",
    "UX/UI Design: Wireframing, Prototyping, User Research, Usability Testing\n",
    "Web Design: HTML, CSS, WordPress, Responsive Design\n",
    "Branding: Logo Design, Brand Identity, Visual Storytelling\n",
    "Project Management: Agile Methodologies, Time Management, Client Communication\n",
    "Other Skills: Typography, Illustration, Print Design, Photo Editing\n",
    "Certifications\n",
    "Certified UX Designer, Nielsen Norman Group, 2022\n",
    "Adobe Certified Expert (ACE), Adobe Creative Cloud, 2021\n",
    "Awards\n",
    "Best Design Award, Creative Solutions Agency, 2020\n",
    "Outstanding Designer of the Year, University of Design, 2013\n",
    "Languages\n",
    "English (Fluent)\n",
    "Spanish (Conversational)\"\"\"\n",
    "\n",
    "predicted_category= predict_category(resume_file)\n",
    "print(\"Category:\", predicted_category)"
   ]
  },
  {
   "cell_type": "code",
   "execution_count": 28,
   "id": "33399dd6",
   "metadata": {},
   "outputs": [],
   "source": [
    "import pickle"
   ]
  },
  {
   "cell_type": "code",
   "execution_count": 30,
   "id": "e5c157f4",
   "metadata": {},
   "outputs": [],
   "source": [
    "pickle.dump(model, open('models/logistic_reg_model.pkl', 'wb'))\n",
    "pickle.dump(tfid, open('models/tfidf_vectorizer_categorization.pkl', 'wb'))"
   ]
  },
  {
   "cell_type": "code",
   "execution_count": null,
   "id": "6b137ff6",
   "metadata": {},
   "outputs": [],
   "source": []
  }
 ],
 "metadata": {
  "kernelspec": {
   "display_name": "Python 3 (ipykernel)",
   "language": "python",
   "name": "python3"
  },
  "language_info": {
   "codemirror_mode": {
    "name": "ipython",
    "version": 3
   },
   "file_extension": ".py",
   "mimetype": "text/x-python",
   "name": "python",
   "nbconvert_exporter": "python",
   "pygments_lexer": "ipython3",
   "version": "3.10.10"
  }
 },
 "nbformat": 4,
 "nbformat_minor": 5
}
